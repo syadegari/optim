{
 "cells": [
  {
   "cell_type": "code",
   "execution_count": 1,
   "id": "technological-sherman",
   "metadata": {
    "ExecuteTime": {
     "end_time": "2022-11-27T18:28:36.607863Z",
     "start_time": "2022-11-27T18:28:36.592609Z"
    }
   },
   "outputs": [],
   "source": [
    "submit_cv_lines=\"\"\"#!/usr/bin/bash\n",
    "\n",
    "#SBATCH --nodes=16\n",
    "#SBATCH --ntasks=16\n",
    "#SBATCH --time=02:00:00\n",
    "#SBATCH --output=./LOG.run.%j.out\n",
    "#SBATCH --error=./LOG.run.%j.err\n",
    "#SBATCH --mem-per-cpu=20G\n",
    "#SBATCH --export=ALL\n",
    "#SBATCH --cpus-per-task=4\n",
    "#SBATCH --job-name=cv_mpi_{group}_{set_k}\n",
    "#SBATCH --wait-all-nodes=1\n",
    "\n",
    "\n",
    "# either OpenMPI or comparable library\n",
    "ml OpenMPI\n",
    "\n",
    "set -x\n",
    "\n",
    "rm -rf CV\n",
    "\n",
    "export OMPI_MCA_mpi_warn_on_fork=0\n",
    "export OMP_NUM_THREADS=${{SLURM_CPUS_PER_TASK}}\n",
    "\n",
    "srun python -m mpi4py.futures {optim_path}/cv_multi.py \\\\\n",
    "     -c {path_root}/{group}/{set_k}/control_file_squash.py \\\\\n",
    "     --cv-folder-path {path_root}/{group}/{set_k}/ \\\\\n",
    "     --cv-stations /work/yadegari/single_basin_optim_2/stations.json \\\\\n",
    "     -l {optim_path}/basin_lut.org \\\\\n",
    "     --warmup 365 \\\\\n",
    "     --squash-sim \\\\\n",
    "     --disable-wbcheck \\\\\n",
    "     --htessel-exec {htessel_exec}\n",
    "     \n",
    "kge_script_path=/work/yadegari/optim/kge_multiyear.py\n",
    "for mb in \".\";\n",
    "do\n",
    "    rm -f $mb/CV/kges.txt && touch $mb/CV/kges.txt\n",
    "    echo preproc kges for $mb\n",
    "    for st in $(\\ls $mb/CV/ | grep station_);\n",
    "    do\n",
    "        echo -n \"${{st}} \" >> $mb/CV/kges.txt\n",
    "        python $kge_script_path \\\\\n",
    "               -p $mb/CV/$st/default_sim/$st \\\\\n",
    "               -w 365 \\\\\n",
    "               -n $(echo $st | perl -ne '/.+_(\\d+)/; print $1') \\\\\n",
    "               >> $mb/CV/kges.txt\n",
    "    done\n",
    "done     \n",
    "\"\"\""
   ]
  },
  {
   "cell_type": "code",
   "execution_count": 2,
   "id": "governmental-zambia",
   "metadata": {
    "ExecuteTime": {
     "end_time": "2022-11-27T18:28:36.625647Z",
     "start_time": "2022-11-27T18:28:36.611256Z"
    }
   },
   "outputs": [],
   "source": [
    "optim_path = '/work/yadegari/optim_crash/'\n",
    "path_root = '/work/yadegari/multibasin_study_1/'"
   ]
  },
  {
   "cell_type": "code",
   "execution_count": 3,
   "id": "every-cinema",
   "metadata": {
    "ExecuteTime": {
     "end_time": "2022-11-27T18:28:36.781026Z",
     "start_time": "2022-11-27T18:28:36.629699Z"
    }
   },
   "outputs": [],
   "source": [
    "from path import Path"
   ]
  },
  {
   "cell_type": "code",
   "execution_count": 4,
   "id": "advance-banner",
   "metadata": {
    "ExecuteTime": {
     "end_time": "2022-11-27T18:28:36.789791Z",
     "start_time": "2022-11-27T18:28:36.784731Z"
    }
   },
   "outputs": [],
   "source": [
    "groups = ['with_bucket_system', 'without_bucket_system']\n",
    "sets = [f'set_{i}' for i in range(1, 11)]"
   ]
  },
  {
   "cell_type": "code",
   "execution_count": 5,
   "id": "stuck-comfort",
   "metadata": {
    "ExecuteTime": {
     "end_time": "2022-11-27T18:28:36.842888Z",
     "start_time": "2022-11-27T18:28:36.793415Z"
    }
   },
   "outputs": [],
   "source": [
    "from itertools import product\n",
    "\n",
    "get_htessel_exec = lambda group: 'master1s_bucket.exe' if group=='with_bucket_system' else 'default'\n",
    "\n",
    "for set_k, group in product(sets, groups):\n",
    "    with Path(f'{group}/{set_k}'):\n",
    "        with open('submit_cv.sh', 'w') as fh:\n",
    "            fh.writelines(\n",
    "                submit_cv_lines.format(\n",
    "                    group=group,\n",
    "                    set_k=set_k,\n",
    "                    path_root=path_root,\n",
    "                    optim_path=optim_path,\n",
    "                    htessel_exec=get_htessel_exec(group)\n",
    "                )\n",
    "            )"
   ]
  },
  {
   "cell_type": "code",
   "execution_count": 6,
   "id": "combined-montreal",
   "metadata": {
    "ExecuteTime": {
     "end_time": "2022-11-27T18:33:59.189512Z",
     "start_time": "2022-11-27T18:28:36.846360Z"
    }
   },
   "outputs": [],
   "source": [
    "import subprocess as sp\n",
    "\n",
    "for group in groups:\n",
    "    for set_k in sets:\n",
    "        with Path(f'{group}/{set_k}'):\n",
    "            sp.Popen('rm -rf CV', shell=True).communicate()\n",
    "            sp.Popen('sbatch submit_cv.sh', shell=True).communicate()"
   ]
  }
 ],
 "metadata": {
  "kernelspec": {
   "display_name": "Python 3",
   "language": "python",
   "name": "python3"
  },
  "language_info": {
   "codemirror_mode": {
    "name": "ipython",
    "version": 3
   },
   "file_extension": ".py",
   "mimetype": "text/x-python",
   "name": "python",
   "nbconvert_exporter": "python",
   "pygments_lexer": "ipython3",
   "version": "3.7.4"
  }
 },
 "nbformat": 4,
 "nbformat_minor": 5
}
