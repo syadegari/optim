{
 "cells": [
  {
   "cell_type": "code",
   "execution_count": 1,
   "id": "cardiac-admission",
   "metadata": {
    "ExecuteTime": {
     "end_time": "2022-11-27T18:19:32.255109Z",
     "start_time": "2022-11-27T18:19:29.126490Z"
    }
   },
   "outputs": [],
   "source": [
    "from __future__ import annotations\n",
    "import sys\n",
    "sys.path.append('/work/yadegari/optim/')\n",
    "\n",
    "from extract_best_paramset import extract_info\n",
    "from util import import_control_file\n"
   ]
  },
  {
   "cell_type": "code",
   "execution_count": 2,
   "id": "fresh-product",
   "metadata": {
    "ExecuteTime": {
     "end_time": "2022-11-27T18:19:32.266475Z",
     "start_time": "2022-11-27T18:19:32.262131Z"
    }
   },
   "outputs": [],
   "source": [
    "root_path = '/work/yadegari/multibasin_study_1/'"
   ]
  },
  {
   "cell_type": "code",
   "execution_count": 3,
   "id": "enormous-civilization",
   "metadata": {
    "ExecuteTime": {
     "end_time": "2022-11-27T18:19:32.293291Z",
     "start_time": "2022-11-27T18:19:32.272309Z"
    }
   },
   "outputs": [
    {
     "data": {
      "text/plain": [
       "['set_1',\n",
       " 'set_2',\n",
       " 'set_3',\n",
       " 'set_4',\n",
       " 'set_5',\n",
       " 'set_6',\n",
       " 'set_7',\n",
       " 'set_8',\n",
       " 'set_9',\n",
       " 'set_10']"
      ]
     },
     "execution_count": 3,
     "metadata": {},
     "output_type": "execute_result"
    }
   ],
   "source": [
    "sets = [f'set_{i}' for i in range(1, 11)]\n",
    "sets"
   ]
  },
  {
   "cell_type": "code",
   "execution_count": 4,
   "id": "middle-hughes",
   "metadata": {
    "ExecuteTime": {
     "end_time": "2022-11-27T18:19:32.304686Z",
     "start_time": "2022-11-27T18:19:32.297825Z"
    }
   },
   "outputs": [],
   "source": [
    "def get_best_kge(group, set_k) -> float:\n",
    "    return extract_info(f'{root_path}/{group}/{set_k}/control_file_squash.py')[0]\n",
    "\n",
    "def get_num_iterations(group, set_k) -> int:\n",
    "    with open(f'{root_path}/{group}/{set_k}/runs/res.txt') as fh:\n",
    "        lines = fh.readlines()\n",
    "    return len(lines) // 2\n",
    "\n",
    "import re\n",
    "\n",
    "def get_key(set_name:str) -> str:\n",
    "    '''removes underscore from the set_name: f(\"set_5\") -> \"set 5\"'''\n",
    "    return re.sub(r'(.+)_(\\d+)', r'\\1 \\2', set_name)\n",
    "    \n",
    "def get_data(func, sets:list[str]) -> dict:\n",
    "    return {\n",
    "        get_key(set_k): {\n",
    "            'with_bucketsystem': func('with_bucket_system', set_k),\n",
    "            'without_bucketsystem': func('without_bucket_system', set_k)\n",
    "        } for set_k in sets\n",
    "    }"
   ]
  },
  {
   "cell_type": "code",
   "execution_count": 5,
   "id": "regional-criticism",
   "metadata": {
    "ExecuteTime": {
     "end_time": "2022-11-27T18:19:33.043605Z",
     "start_time": "2022-11-27T18:19:32.308908Z"
    }
   },
   "outputs": [],
   "source": [
    "data_kge = get_data(get_best_kge, sets)\n",
    "data_iternums = get_data(get_num_iterations, sets)"
   ]
  },
  {
   "cell_type": "code",
   "execution_count": 6,
   "id": "forty-airplane",
   "metadata": {
    "ExecuteTime": {
     "end_time": "2022-11-27T18:19:33.054982Z",
     "start_time": "2022-11-27T18:19:33.048614Z"
    }
   },
   "outputs": [],
   "source": [
    "import sys\n",
    "sys.path.append('/work/yadegari/optim_crash/util.py')\n",
    "\n",
    "from util import import_control_file\n",
    "\n",
    "def get_scaled_progress(data_iternums):\n",
    "    cf_with = import_control_file(f'{root_path}/with_bucket_system/set_1/control_file_squash.py')[0]\n",
    "    cf_without = import_control_file(f'{root_path}/without_bucket_system/set_1/control_file_squash.py')[0]\n",
    "    \n",
    "    nparam_with = len(cf_with.params)\n",
    "    nparam_without = len(cf_without.params)\n",
    "    iter_per_param = 100\n",
    "    \n",
    "    # probab according to DDS\n",
    "    p = lambda m, n: 1 - np.log(m) / np.log(n)\n",
    "    \n",
    "    \n",
    "    for set_k, data in data_iternums.items():\n",
    "        for group in data:\n",
    "            if group == 'with_bucketsystem':\n",
    "                data[group] = data[group] / (iter_per_param * nparam_with)\n",
    "            if group == 'without_bucketsystem':\n",
    "                data[group] = data[group] / (iter_per_param * nparam_without)\n",
    "    \n",
    "    return data_iternums\n",
    "\n",
    "data_iternums = get_scaled_progress(data_iternums)"
   ]
  },
  {
   "cell_type": "code",
   "execution_count": 7,
   "id": "diagnostic-corporation",
   "metadata": {
    "ExecuteTime": {
     "end_time": "2022-11-27T18:19:33.072226Z",
     "start_time": "2022-11-27T18:19:33.062220Z"
    }
   },
   "outputs": [],
   "source": [
    "def set_labels(ax, xlabel, ylabel, kwargs={}):\n",
    "    ax.set_xlabel(xlabel, **kwargs)\n",
    "    ax.set_ylabel(ylabel, **kwargs)  \n",
    "    \n",
    "def draw_plot(ax, data:dict):\n",
    "    get_data = lambda data, name: (data.keys(), [data[k][name] for k in data])\n",
    "    \n",
    "    ax.plot(*get_data(data, 'with_bucketsystem'), \n",
    "        'o', ms=10, label='with bucketsystem')\n",
    "\n",
    "    ax.plot(*get_data(data, 'without_bucketsystem'),\n",
    "        '^', ms=10, label='without bucketsystem')"
   ]
  },
  {
   "cell_type": "code",
   "execution_count": 8,
   "id": "concerned-reverse",
   "metadata": {
    "ExecuteTime": {
     "end_time": "2022-11-27T18:19:33.086674Z",
     "start_time": "2022-11-27T18:19:33.078035Z"
    }
   },
   "outputs": [
    {
     "data": {
      "text/plain": [
       "{'set 1': {'with_bucketsystem': 0.16818181818181818,\n",
       "  'without_bucketsystem': 0.5797959183673469},\n",
       " 'set 2': {'with_bucketsystem': 0.17597402597402598,\n",
       "  'without_bucketsystem': 0.5528571428571428},\n",
       " 'set 3': {'with_bucketsystem': 0.2785714285714286,\n",
       "  'without_bucketsystem': 0.4110204081632653},\n",
       " 'set 4': {'with_bucketsystem': 0.29454545454545455,\n",
       "  'without_bucketsystem': 0.666734693877551},\n",
       " 'set 5': {'with_bucketsystem': 0.08597402597402598,\n",
       "  'without_bucketsystem': 0.5963265306122449},\n",
       " 'set 6': {'with_bucketsystem': 0.13545454545454547,\n",
       "  'without_bucketsystem': 0.31918367346938775},\n",
       " 'set 7': {'with_bucketsystem': 0.24675324675324675,\n",
       "  'without_bucketsystem': 0.8344897959183674},\n",
       " 'set 8': {'with_bucketsystem': 0.48,\n",
       "  'without_bucketsystem': 0.606938775510204},\n",
       " 'set 9': {'with_bucketsystem': 0.11948051948051948,\n",
       "  'without_bucketsystem': 0.33122448979591834},\n",
       " 'set 10': {'with_bucketsystem': 0.33194805194805194,\n",
       "  'without_bucketsystem': 0.5248979591836734}}"
      ]
     },
     "execution_count": 8,
     "metadata": {},
     "output_type": "execute_result"
    }
   ],
   "source": [
    "data_iternums"
   ]
  },
  {
   "cell_type": "code",
   "execution_count": 9,
   "id": "burning-pipeline",
   "metadata": {
    "ExecuteTime": {
     "end_time": "2022-11-27T18:19:37.164919Z",
     "start_time": "2022-11-27T18:19:33.091509Z"
    },
    "code_folding": [
     0
    ]
   },
   "outputs": [
    {
     "data": {
      "image/png": "[encoded data removed]",
      "text/plain": [
       "<Figure size 1008x360 with 2 Axes>"
      ]
     },
     "metadata": {
      "needs_background": "light"
     },
     "output_type": "display_data"
    }
   ],
   "source": [
    "import matplotlib.pyplot as plt\n",
    "\n",
    "plt.rcParams[\"font.family\"] = \"P052\"\n",
    "\n",
    "fig, (ax1, ax2) = plt.subplots(1, 2, figsize=(14,5))\n",
    "\n",
    "draw_plot(ax1, data_kge)\n",
    "draw_plot(ax2, data_iternums)\n",
    "\n",
    "for ax in (ax1, ax2):\n",
    "    ax.tick_params(direction='in',\n",
    "                   length=10,\n",
    "                   width=1.5,\n",
    "                   labelsize=15)\n",
    "    for tick in ax.get_xticklabels():\n",
    "        tick.set_rotation(-90)\n",
    "\n",
    "set_labels(ax1, '', 'Best KGE', {'size':20})    \n",
    "set_labels(ax2, '', 'Simulation Progress', {'size':20})  \n",
    "    \n",
    "ax1.legend(loc='upper right',\n",
    "           prop={'size':15})\n",
    "\n",
    "kwargs = {\n",
    "#     'title': '2D histogram of Multivariate Gaussian',\n",
    "    'ylim': [0, 1],\n",
    "#     'xlim': [-4, 4]\n",
    "}\n",
    "ax1.set(**kwargs);\n",
    "\n",
    "\n",
    "kwargs = {\n",
    "    'ylim': [0, 1],\n",
    "}\n",
    "    \n",
    "ax2.set(**kwargs)\n",
    "\n",
    "plt.savefig('kge-iteration.pdf')"
   ]
  },
  {
   "cell_type": "code",
   "execution_count": 10,
   "id": "cellular-longitude",
   "metadata": {
    "ExecuteTime": {
     "end_time": "2022-11-27T18:19:37.171903Z",
     "start_time": "2022-11-27T18:19:37.168581Z"
    }
   },
   "outputs": [],
   "source": [
    "def get_control_file(group):\n",
    "    '''always returns the one in set_1'''\n",
    "    assert group == 'with_bucket_system' or group == 'without_bucket_system'\n",
    "    path = f'{root_path}/{group}/set_1/control_file_squash.py'\n",
    "    return import_control_file(path)[0]"
   ]
  },
  {
   "cell_type": "code",
   "execution_count": 11,
   "id": "realistic-sperm",
   "metadata": {
    "ExecuteTime": {
     "end_time": "2022-11-27T18:19:37.434640Z",
     "start_time": "2022-11-27T18:19:37.174912Z"
    }
   },
   "outputs": [],
   "source": [
    "def get_best_paramset(group, set_k) -> dict[str, float]:\n",
    "    return extract_info(f'{root_path}/{group}/{set_k}/control_file_squash.py')[2]"
   ]
  },
  {
   "cell_type": "code",
   "execution_count": 12,
   "id": "alternative-calvin",
   "metadata": {
    "ExecuteTime": {
     "end_time": "2022-11-27T18:19:37.704352Z",
     "start_time": "2022-11-27T18:19:37.441846Z"
    }
   },
   "outputs": [],
   "source": [
    "from dataclasses import dataclass\n",
    "from dataclasses import field\n",
    "\n",
    "@dataclass\n",
    "class Param:\n",
    "    name: str\n",
    "    param_max: float\n",
    "    param_min: float\n",
    "    param_vals: list[float] = field(default_factory=list)\n",
    "    param_vals_scaled: list[float] = field(default_factory=list)\n",
    "        \n",
    "    def __post_init__(self):\n",
    "        assert self.param_max > self.param_min\n",
    "        \n",
    "    def add(self, v):\n",
    "        if not self.param_min <= v <= self.param_max:\n",
    "            print(f'for {self.name} the bounds are violated: {v}, {self.param_min}, {self.param_max}')\n",
    "        self.param_vals.append(v)"
   ]
  },
  {
   "cell_type": "code",
   "execution_count": 13,
   "id": "meaningful-groove",
   "metadata": {
    "ExecuteTime": {
     "end_time": "2022-11-27T18:19:55.972636Z",
     "start_time": "2022-11-27T18:19:37.711054Z"
    }
   },
   "outputs": [],
   "source": [
    "from sklearn.preprocessing import MinMaxScaler\n",
    "import numpy as np\n",
    "\n",
    "def scale_params(xs, v_min, v_max):\n",
    "    return MinMaxScaler().fit(\n",
    "        np.array([[v_min, v_max]]).T).transform(\n",
    "        np.array([xs]).T).squeeze()\n"
   ]
  },
  {
   "cell_type": "code",
   "execution_count": 14,
   "id": "difficult-happening",
   "metadata": {
    "ExecuteTime": {
     "end_time": "2022-11-27T18:19:55.990957Z",
     "start_time": "2022-11-27T18:19:55.980749Z"
    },
    "code_folding": []
   },
   "outputs": [],
   "source": [
    "def prepare_parameters(group, sets):\n",
    "    '''create a dictionary of scaled parameters for plotting'''\n",
    "    cf = get_control_file(group)\n",
    "    d = {}\n",
    "    \n",
    "    for param_name in cf.params.keys():\n",
    "        v_min, v_max, _ = cf.params[param_name]\n",
    "        d[param_name] = Param(name=param_name, param_min=v_min, param_max=v_max)\n",
    "\n",
    "    for set_name in sets:\n",
    "        best_paramset = get_best_paramset(group, set_name)\n",
    "        for param_name, param_val in best_paramset.items():\n",
    "            d[param_name].add(param_val)\n",
    "        \n",
    "    for _, param in d.items():\n",
    "        param.param_vals_scaled = scale_params(np.array(param.param_vals),\n",
    "                                               v_min=param.param_min,\n",
    "                                               v_max=param.param_max)\n",
    "        \n",
    "    return d\n",
    "    "
   ]
  },
  {
   "cell_type": "code",
   "execution_count": 15,
   "id": "stuck-richards",
   "metadata": {
    "ExecuteTime": {
     "end_time": "2022-11-27T18:19:56.021779Z",
     "start_time": "2022-11-27T18:19:55.995885Z"
    }
   },
   "outputs": [],
   "source": [
    "shared_distributed_params = ['a5', 'a6', 'b5', 'b6', 'c5', 'c6', 'hveg_rsm_scaling', 'lveg_rsm_scaling', 'mlaih_scaling', 'mlail_scaling', 'thetar_1', 'thetar_4', 'zach_thetas_1', 'zach_thetas_2', 'zach_thetas_3', 'zach_thetas_4', 'zach_thetas_5', 'zach_thetas_6', 'zach_vga_1', 'zach_vga_2', 'zach_vga_3', 'zach_vga_4', 'zach_vga_5', 'zach_vga_6', 'zach_vga_7', 'zach_vga_8', 'zach_vgn_1', 'zach_vgn_10', 'zach_vgn_2', 'zach_vgn_3', 'zach_vgn_4', 'zach_vgn_5', 'zach_vgn_6', 'zach_vgn_7', 'zach_vgn_8', 'zach_vgn_9']"
   ]
  },
  {
   "cell_type": "code",
   "execution_count": 16,
   "id": "improving-turtle",
   "metadata": {
    "ExecuteTime": {
     "end_time": "2022-11-27T18:19:56.042409Z",
     "start_time": "2022-11-27T18:19:56.028524Z"
    },
    "code_folding": [
     3,
     13,
     20,
     26,
     32,
     41
    ]
   },
   "outputs": [],
   "source": [
    "import re\n",
    "\n",
    "\n",
    "def add_leading_zero(s):\n",
    "    '''adds a leading zero to 1-digit numbers'''\n",
    "    text, num = re.match(r'(.+?)(\\d*)$', s).groups()\n",
    "    if not num:\n",
    "        return s\n",
    "    assert 0 < int(num) < 100, num\n",
    "    s_leading_zero = f'{int(num):02}'\n",
    "    return text + s_leading_zero\n",
    "\n",
    "\n",
    "def remove_leading_zero(s):\n",
    "    text, num = re.match(r'(.+?)(\\d*)$', s).groups()\n",
    "    if not num:\n",
    "        return s\n",
    "    return text + str(int(num))\n",
    "\n",
    "\n",
    "def add_leading_zero_to_keys(d:dict):\n",
    "    return {\n",
    "        add_leading_zero(k): v for k, v in d.items()\n",
    "    }\n",
    "\n",
    "\n",
    "def remove_leading_zero_from_keys(d:dict):\n",
    "    return {\n",
    "        remove_leading_zero(k): v for k, v in d.items()\n",
    "    }\n",
    "\n",
    "\n",
    "def sort_dict(d:dict):\n",
    "    return remove_leading_zero_from_keys(\n",
    "        dict(\n",
    "            sorted(\n",
    "                add_leading_zero_to_keys(d).items()\n",
    "            )\n",
    "        )\n",
    "    )\n",
    "\n",
    "\n",
    "def take_from_keys(d:dict, keys):\n",
    "    return {\n",
    "        k: d[k] for k in keys\n",
    "    }"
   ]
  },
  {
   "cell_type": "code",
   "execution_count": 17,
   "id": "generous-accent",
   "metadata": {
    "ExecuteTime": {
     "end_time": "2022-11-27T18:19:56.233123Z",
     "start_time": "2022-11-27T18:19:56.047339Z"
    }
   },
   "outputs": [
    {
     "name": "stdout",
     "output_type": "stream",
     "text": [
      "for rtf1 the bounds are violated: 272.0, 272.1, 276.0\n",
      "for ralamsn the bounds are violated: 2.07, 1.692, 2.068\n",
      "for a5 the bounds are violated: 1.42, 0.5025, 1.4175\n",
      "for ralamsn the bounds are violated: 2.07, 1.692, 2.068\n",
      "for ralamsn the bounds are violated: 2.07, 1.692, 2.068\n",
      "for rtf1 the bounds are violated: 272.0, 272.1, 276.0\n",
      "for ralamsn the bounds are violated: 2.07, 1.692, 2.068\n"
     ]
    }
   ],
   "source": [
    "params_without = sort_dict(\n",
    "    take_from_keys(\n",
    "        prepare_parameters('without_bucket_system', sets),\n",
    "        shared_distributed_params)\n",
    ")\n",
    "params_with = sort_dict(\n",
    "    take_from_keys(\n",
    "        prepare_parameters('with_bucket_system', sets),\n",
    "        shared_distributed_params))"
   ]
  },
  {
   "cell_type": "code",
   "execution_count": 18,
   "id": "damaged-facility",
   "metadata": {
    "ExecuteTime": {
     "end_time": "2022-11-27T18:19:56.241994Z",
     "start_time": "2022-11-27T18:19:56.235827Z"
    }
   },
   "outputs": [],
   "source": [
    "def make_x_points(ys:list[np.array], offset, std):\n",
    "    xs = []\n",
    "    for idx, y in enumerate(ys):\n",
    "        xs.append(np.random.normal(idx+offset, std, size=len(y)))\n",
    "    return xs\n",
    "\n",
    "\n",
    "def plot_points(ax, xs, ys, color, ms):\n",
    "    for x, y in zip(xs, ys):\n",
    "        ax.plot(x, y, 'x', color=color, ms=ms)\n",
    "        \n",
    "def plot_box(ax, ys, offset, width, color):\n",
    "    \n",
    "    kwargs =  {'patch_artist': True,\n",
    "               'boxprops': dict(color=color, facecolor='none'),\n",
    "               'capprops': dict(color=color),\n",
    "               'flierprops': dict(color=color, markeredgecolor=color),\n",
    "#                'medianprops': dict(color=c),\n",
    "               'whiskerprops': dict(color=color)}\n",
    "\n",
    "    return ax.boxplot(\n",
    "        ys, \n",
    "        positions=np.arange(len(ys)) + offset,\n",
    "        widths=width,\n",
    "    \n",
    "        **kwargs\n",
    "    );\n",
    "\n",
    "\n",
    "def plot(ax, params_dict, offset, width, color, plot_dots=True):\n",
    "    keys = params_dict.keys()\n",
    "    ys = [p.param_vals_scaled for p in params_dict.values()]\n",
    "    if plot_dots:\n",
    "        xs = make_x_points(ys, offset, std=0)\n",
    "        plot_points(ax, xs, ys, 'red', 2)\n",
    "    \n",
    "    ph = plot_box(ax, ys, offset, width, color)\n",
    "    ax.set_xticks(range(len(keys)));\n",
    "    ax.set_xticklabels(keys);\n",
    "    return ph"
   ]
  },
  {
   "cell_type": "code",
   "execution_count": 19,
   "id": "returning-enforcement",
   "metadata": {
    "ExecuteTime": {
     "end_time": "2022-11-27T18:19:57.415097Z",
     "start_time": "2022-11-27T18:19:56.244760Z"
    }
   },
   "outputs": [
    {
     "data": {
      "image/png": "[encoded data removed]",
      "text/plain": [
       "<Figure size 1296x216 with 1 Axes>"
      ]
     },
     "metadata": {
      "needs_background": "light"
     },
     "output_type": "display_data"
    }
   ],
   "source": [
    "fig, ax = plt.subplots(figsize=(18, 3))\n",
    "\n",
    "offset = 0.15\n",
    "\n",
    "h_with = plot(ax, params_with, offset, 0.2, 'blue', plot_dots=False)\n",
    "h_without = plot(ax, params_without, -offset, 0.2, 'red', plot_dots=False)\n",
    "\n",
    "ax.legend([h_with['boxes'][0], h_without['boxes'][0]],\n",
    "          ['with bucketsystem', 'without bucketsystem'],\n",
    "          loc='upper right',\n",
    "          bbox_to_anchor=(1.15, 1))\n",
    "\n",
    "for ax in [ax]:\n",
    "    ax.tick_params(direction='in',\n",
    "                   length=7,\n",
    "                   width=1.0,\n",
    "                   labelsize=8)\n",
    "    for tick in ax.get_xticklabels():\n",
    "        tick.set_rotation(-90)\n",
    "        \n",
    "ax.set_ylabel('Scaled Parameter Value')\n",
    "ax.set_xlabel('Parameter Name')\n",
    "\n",
    "plt.savefig('scaled_params.pdf', bbox_inches='tight')        "
   ]
  }
 ],
 "metadata": {
  "kernelspec": {
   "display_name": "Python 3",
   "language": "python",
   "name": "python3"
  },
  "language_info": {
   "codemirror_mode": {
    "name": "ipython",
    "version": 3
   },
   "file_extension": ".py",
   "mimetype": "text/x-python",
   "name": "python",
   "nbconvert_exporter": "python",
   "pygments_lexer": "ipython3",
   "version": "3.7.4"
  }
 },
 "nbformat": 4,
 "nbformat_minor": 5
}
