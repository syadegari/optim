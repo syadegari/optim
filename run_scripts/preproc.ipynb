{
 "cells": [
  {
   "cell_type": "markdown",
   "id": "liberal-macintosh",
   "metadata": {},
   "source": [
    "This notebook is used to create 10 sets of stations, each with 7 stations and use them to create 10 sets of optimization"
   ]
  },
  {
   "cell_type": "code",
   "execution_count": 1,
   "id": "macro-chambers",
   "metadata": {
    "ExecuteTime": {
     "end_time": "2022-10-28T23:26:24.123603Z",
     "start_time": "2022-10-28T23:26:23.615035Z"
    }
   },
   "outputs": [],
   "source": [
    "import json\n",
    "import numpy as np"
   ]
  },
  {
   "cell_type": "code",
   "execution_count": 2,
   "id": "brilliant-harris",
   "metadata": {
    "ExecuteTime": {
     "end_time": "2022-10-28T23:26:24.131874Z",
     "start_time": "2022-10-28T23:26:24.127256Z"
    }
   },
   "outputs": [],
   "source": [
    "np.random.seed(101)"
   ]
  },
  {
   "cell_type": "code",
   "execution_count": 3,
   "id": "arabic-channels",
   "metadata": {
    "ExecuteTime": {
     "end_time": "2022-10-28T23:26:24.162122Z",
     "start_time": "2022-10-28T23:26:24.135381Z"
    }
   },
   "outputs": [],
   "source": [
    "stations_specs = json.load(open(('/work/yadegari/single_basin_optim_2/stations.json')))\n",
    "sts_names = stations_specs.keys()"
   ]
  },
  {
   "cell_type": "code",
   "execution_count": 4,
   "id": "eight-layout",
   "metadata": {
    "ExecuteTime": {
     "end_time": "2022-10-28T23:26:24.172064Z",
     "start_time": "2022-10-28T23:26:24.165789Z"
    }
   },
   "outputs": [],
   "source": [
    "station_sets = np.random.choice(np.array(list(sts_names)), 7 * 10, replace=False).reshape(10, 7)"
   ]
  },
  {
   "cell_type": "code",
   "execution_count": 5,
   "id": "returning-kansas",
   "metadata": {
    "ExecuteTime": {
     "end_time": "2022-10-28T23:26:24.185703Z",
     "start_time": "2022-10-28T23:26:24.174579Z"
    }
   },
   "outputs": [],
   "source": [
    "json.dump(\n",
    "    {\n",
    "        f\"set_{k}\": list(v) for (k, v) in enumerate(station_sets, start=1)\n",
    "    },\n",
    "    open('stations_study.json', 'w'), \n",
    "    indent=4\n",
    ")"
   ]
  },
  {
   "cell_type": "markdown",
   "id": "impressive-samuel",
   "metadata": {},
   "source": [
    "two directories: `with_bucket_system` and `without_bucket_system`"
   ]
  },
  {
   "cell_type": "code",
   "execution_count": 6,
   "id": "intended-bidding",
   "metadata": {
    "ExecuteTime": {
     "end_time": "2022-10-28T23:26:24.208483Z",
     "start_time": "2022-10-28T23:26:24.188757Z"
    }
   },
   "outputs": [],
   "source": [
    "import os\n",
    "from path import Path"
   ]
  },
  {
   "cell_type": "code",
   "execution_count": 7,
   "id": "dedicated-black",
   "metadata": {
    "ExecuteTime": {
     "end_time": "2022-10-28T23:26:24.215475Z",
     "start_time": "2022-10-28T23:26:24.211376Z"
    }
   },
   "outputs": [],
   "source": [
    "control_str = \"\"\"\n",
    "mpr_tf = \"{mpr_tf}\"\n",
    "\n",
    "training = \\\n",
    "{training_dictionary}\n",
    "\n",
    "validation = {{}}\n",
    "\n",
    "penalty = {{}}\n",
    "\n",
    "params = \\\n",
    "{params}\n",
    "\"\"\""
   ]
  },
  {
   "cell_type": "code",
   "execution_count": 15,
   "id": "behind-excess",
   "metadata": {
    "ExecuteTime": {
     "end_time": "2022-10-29T00:11:53.129988Z",
     "start_time": "2022-10-29T00:11:53.121782Z"
    }
   },
   "outputs": [],
   "source": [
    "submit_optim=\"\"\"#!/usr/bin/bash\n",
    "\n",
    "#SBATCH --ntasks=8\n",
    "#SBATCH --time=192:00:00\n",
    "#SBATCH --output=./LOG.run.%j.out\n",
    "#SBATCH --error=./LOG.run.%j.err\n",
    "#SBATCH --mem-per-cpu=32G\n",
    "#SBATCH --export=ALL\n",
    "#SBATCH --cpus-per-task=2\n",
    "#SBATCH --job-name={job_name}\n",
    "\n",
    "# either OpenMPI or comparable library\n",
    "ml OpenMPI\n",
    "\n",
    "set -x\n",
    "restart_option=\"\"\n",
    "while getopts ':r' 'OPTKEY'; do\n",
    "    case ${{OPTKEY}} in\n",
    "        'r')\n",
    "            restart_option=\"-r\"\n",
    "            ;;\n",
    "    esac\n",
    "done\n",
    "\n",
    "\n",
    "export OMPI_MCA_mpi_warn_on_fork=0\n",
    "export OMP_NUM_THREADS=${{SLURM_CPUS_PER_TASK}}\n",
    "\n",
    "srun python -m mpi4py.futures {optim_path}/driver.py \\\\\n",
    "         -n {num_iterations} \\\\\n",
    "         -c ./control_file_squash.py \\\\\n",
    "         --clean-completed \\\\\n",
    "         $restart_option \\\\\n",
    "         -l {optim_path}/basin_lut.org\n",
    "\"\"\""
   ]
  },
  {
   "cell_type": "code",
   "execution_count": 9,
   "id": "focused-mortality",
   "metadata": {
    "ExecuteTime": {
     "end_time": "2022-10-28T23:26:24.235947Z",
     "start_time": "2022-10-28T23:26:24.229169Z"
    }
   },
   "outputs": [],
   "source": [
    "import re\n",
    "\n",
    "def get_training_dict(stations, station_specs, warmup):\n",
    "    return {\n",
    "        re.match('.+_(\\d+)', st)[1]: \n",
    "        {'year_begin': station_specs[st]['yb'][0] ,\n",
    "         'year_end': station_specs[st]['yb'][0] + station_specs[st]['nyrs'][0] - 1,\n",
    "         'warmup': warmup\n",
    "        } for st in stations\n",
    "    }"
   ]
  },
  {
   "cell_type": "code",
   "execution_count": 10,
   "id": "agreed-worry",
   "metadata": {
    "ExecuteTime": {
     "end_time": "2022-10-28T23:26:24.254612Z",
     "start_time": "2022-10-28T23:26:24.238942Z"
    }
   },
   "outputs": [],
   "source": [
    "def shell_cmd(cmd):\n",
    "    out, err = sp.Popen(cmd,\n",
    "                        shell=True,\n",
    "                        stderr=sp.PIPE,\n",
    "                        stdout=sp.PIPE,\n",
    "                        text=True\n",
    "                       ).communicate()\n",
    "    if err:\n",
    "        print(err)"
   ]
  },
  {
   "cell_type": "code",
   "execution_count": 11,
   "id": "unnecessary-flight",
   "metadata": {
    "ExecuteTime": {
     "end_time": "2022-10-28T23:26:24.269594Z",
     "start_time": "2022-10-28T23:26:24.257789Z"
    }
   },
   "outputs": [],
   "source": [
    "import subprocess as sp\n",
    "\n",
    "def prepare_domains(optim_path,\n",
    "                    mpr_tf,\n",
    "                    params,\n",
    "                    study_name,\n",
    "                    sts,\n",
    "                    stations_specs,\n",
    "                    warmup,\n",
    "                    prepare_basin_cmd,\n",
    "                    control_str,\n",
    "                    squash_cmd,\n",
    "                    num_iteration_per_parameter):\n",
    "    with Path(study_name).mkdir():\n",
    "        for optim_set, stations in sts.items():\n",
    "            with Path(optim_set).mkdir():\n",
    "                training_dict = get_training_dict(stations, stations_specs, warmup)\n",
    "                with open('control.py', 'w') as fh:\n",
    "                    fh.writelines(\n",
    "                        control_str.format(\n",
    "                            mpr_tf=mpr_tf,\n",
    "                            training_dictionary=json.dumps(training_dict, indent=4),\n",
    "                            params=json.dumps(params, indent=4)\n",
    "                        )\n",
    "                    )\n",
    "                with open('submit_optim.sh', 'w') as fh:\n",
    "                    fh.writelines(\n",
    "                        submit_optim.format(\n",
    "                            job_name=f'{study_name}_{optim_set}',\n",
    "                            optim_path=optim_path,\n",
    "                            num_iterations=f'{num_iteration_per_parameter * len(params)}'\n",
    "                        )\n",
    "                    )\n",
    "                shell_cmd(prepare_basin_cmd)\n",
    "                shell_cmd(squash_cmd)\n",
    "                "
   ]
  },
  {
   "cell_type": "markdown",
   "id": "verbal-object",
   "metadata": {},
   "source": [
    "here are the parameters that are shared between two sets"
   ]
  },
  {
   "cell_type": "code",
   "execution_count": 12,
   "id": "extraordinary-service",
   "metadata": {
    "ExecuteTime": {
     "end_time": "2022-10-28T23:26:24.277821Z",
     "start_time": "2022-10-28T23:26:24.272422Z"
    }
   },
   "outputs": [],
   "source": [
    "optim_path = '/work/yadegari/optim_crash/'\n",
    "station_sets = json.load(open('stations_study.json'))\n",
    "\n",
    "\n",
    "prepare_basin_cmd = \\\n",
    "f'python \\\n",
    "{optim_path}/prepare_domains.py \\\n",
    "-c ./control.py \\\n",
    "-l {optim_path}/basin_lut.org'\n",
    "\n"
   ]
  },
  {
   "cell_type": "markdown",
   "id": "accurate-migration",
   "metadata": {},
   "source": [
    "parameters for set **witohout** water bucket "
   ]
  },
  {
   "cell_type": "code",
   "execution_count": 13,
   "id": "existing-summary",
   "metadata": {
    "ExecuteTime": {
     "end_time": "2022-10-28T23:45:35.350383Z",
     "start_time": "2022-10-28T23:26:24.280283Z"
    }
   },
   "outputs": [],
   "source": [
    "mpr_tf = 'zacharias_res_new'\n",
    "study_name = 'without_bucket_system'\n",
    "params = json.load(open('params_without_waterbucket.json'))\n",
    "\n",
    "squash_cmd = \\\n",
    "f'python {optim_path}/squash_multiyear.py \\\n",
    "-c ./control.py \\\n",
    "-l {optim_path}/basin_lut.org \\\n",
    "--disable-wbcheck'\n",
    "\n",
    "prepare_domains(optim_path=optim_path,\n",
    "                mpr_tf=mpr_tf,\n",
    "                params=params,\n",
    "                study_name=study_name,\n",
    "                sts=station_sets,\n",
    "                stations_specs=stations_specs,\n",
    "                warmup=365,\n",
    "                prepare_basin_cmd=prepare_basin_cmd,\n",
    "                control_str=control_str,\n",
    "                squash_cmd=squash_cmd,\n",
    "                num_iteration_per_parameter=100\n",
    "               )"
   ]
  },
  {
   "cell_type": "markdown",
   "id": "collect-delhi",
   "metadata": {},
   "source": [
    "parameters for set **with** water bucket "
   ]
  },
  {
   "cell_type": "code",
   "execution_count": 14,
   "id": "sudden-albany",
   "metadata": {
    "ExecuteTime": {
     "end_time": "2022-10-29T00:05:00.772194Z",
     "start_time": "2022-10-28T23:45:35.354670Z"
    }
   },
   "outputs": [],
   "source": [
    "mpr_tf = 'zacharias_mhm'\n",
    "study_name = 'with_bucket_system'\n",
    "params = json.load(open('params_with_waterbucket.json'))\n",
    "\n",
    "squash_cmd = \\\n",
    "f'python {optim_path}/squash_multiyear.py \\\n",
    "-c ./control.py \\\n",
    "-l {optim_path}/basin_lut.org \\\n",
    "--disable-wbcheck \\\n",
    "--htessel-exec master1s_bucket.exe'\n",
    "\n",
    "prepare_domains(optim_path=optim_path,\n",
    "                mpr_tf=mpr_tf,\n",
    "                params=params,\n",
    "                study_name=study_name,\n",
    "                sts=station_sets,\n",
    "                stations_specs=stations_specs,\n",
    "                warmup=365,\n",
    "                prepare_basin_cmd=prepare_basin_cmd,\n",
    "                control_str=control_str,\n",
    "                squash_cmd=squash_cmd,\n",
    "                num_iteration_per_parameter=100\n",
    "               )"
   ]
  }
 ],
 "metadata": {
  "kernelspec": {
   "display_name": "Python 3",
   "language": "python",
   "name": "python3"
  },
  "language_info": {
   "codemirror_mode": {
    "name": "ipython",
    "version": 3
   },
   "file_extension": ".py",
   "mimetype": "text/x-python",
   "name": "python",
   "nbconvert_exporter": "python",
   "pygments_lexer": "ipython3",
   "version": "3.6.8"
  }
 },
 "nbformat": 4,
 "nbformat_minor": 5
}
